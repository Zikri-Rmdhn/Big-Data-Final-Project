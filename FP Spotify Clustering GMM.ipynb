{
 "cells": [
  {
   "cell_type": "code",
   "execution_count": null,
   "id": "bee101f2",
   "metadata": {},
   "outputs": [],
   "source": [
    "import pandas as pd"
   ]
  },
  {
   "cell_type": "code",
   "execution_count": null,
   "id": "ab9b9435",
   "metadata": {},
   "outputs": [],
   "source": [
    "data = pd.read_csv('spotify2019.csv')"
   ]
  },
  {
   "cell_type": "code",
   "execution_count": null,
   "id": "ebcadcf4",
   "metadata": {},
   "outputs": [],
   "source": [
    "data.head(10)"
   ]
  },
  {
   "cell_type": "code",
   "execution_count": null,
   "id": "9dac2979",
   "metadata": {},
   "outputs": [],
   "source": [
    "print(data.isnull().sum())"
   ]
  },
  {
   "cell_type": "code",
   "execution_count": null,
   "id": "be64a378",
   "metadata": {},
   "outputs": [],
   "source": [
    "data.dropna(inplace=True)"
   ]
  },
  {
   "cell_type": "code",
   "execution_count": null,
   "id": "fbc46090",
   "metadata": {},
   "outputs": [],
   "source": [
    "duplicates = data[data.duplicated(subset=['track_id'], keep=False)]\n",
    "print(f\"Jumlah duplikat: {len(duplicates)}\")"
   ]
  },
  {
   "cell_type": "code",
   "execution_count": null,
   "id": "873e120d",
   "metadata": {},
   "outputs": [],
   "source": [
    "# Drop dupliactes by 'track_id'\n",
    "data = data.drop_duplicates(subset=['track_id'], keep='first')"
   ]
  },
  {
   "cell_type": "code",
   "execution_count": null,
   "id": "e7bfe38a",
   "metadata": {},
   "outputs": [],
   "source": [
    "# Numerical feature\n",
    "data_numeric = data.select_dtypes(include=['float64', 'int64'])"
   ]
  },
  {
   "cell_type": "code",
   "execution_count": null,
   "id": "a2e3ca16",
   "metadata": {},
   "outputs": [],
   "source": [
    "data['tempo'] = pd.qcut(data['tempo'], q=5, labels=False) # tempo is bined into 5 bin"
   ]
  },
  {
   "cell_type": "code",
   "execution_count": null,
   "id": "9b77b71e",
   "metadata": {},
   "outputs": [],
   "source": [
    "data['duration_ms'] = data['duration_ms'].apply(lambda x: x / 60000) #convert miliseconds to minutes\n",
    "data.rename(columns={'duration_ms': 'duration_min'}, inplace=True)"
   ]
  },
  {
   "cell_type": "code",
   "execution_count": null,
   "id": "ae79d708",
   "metadata": {},
   "outputs": [],
   "source": [
    "import numpy as np\n",
    "\n",
    "data['key_sin'] = np.sin(2 * np.pi * data['key']/12) # mapping key to x y coordinates in circle unit\n",
    "data['key_cos'] = np.cos(2 * np.pi * data['key']/12)"
   ]
  },
  {
   "cell_type": "code",
   "execution_count": null,
   "id": "67c04397",
   "metadata": {},
   "outputs": [],
   "source": [
    "import matplotlib.pyplot as plt\n",
    "import seaborn as sns\n",
    "\n",
    "plt.figure(figsize=(15, 6))\n",
    "sns.boxplot(data=data_numeric, orient='h')\n",
    "plt.title('Boxplot')\n",
    "plt.show()"
   ]
  },
  {
   "cell_type": "code",
   "execution_count": null,
   "id": "715034b3",
   "metadata": {},
   "outputs": [],
   "source": [
    "Q1 = data_numeric.quantile(0.25)\n",
    "Q3 = data_numeric.quantile(0.75)\n",
    "IQR = Q3 - Q1\n",
    "\n",
    "data = data[~((data_numeric < (Q1 - 1.5 * IQR)) | (data_numeric > (Q3 + 1.5 * IQR))).any(axis=1)].reset_index(drop=True) # remove outlier based on 1.5 * IQR range\n",
    "data"
   ]
  },
  {
   "cell_type": "code",
   "execution_count": null,
   "id": "646c2a36",
   "metadata": {},
   "outputs": [],
   "source": [
    "data_num = data.select_dtypes(include=['float64', 'int64']) # correlation between numeric features\n",
    "correlation_matrix = data_num.corr()\n",
    "\n",
    "plt.figure(figsize=(12, 8))\n",
    "sns.heatmap(correlation_matrix, annot=True, cmap='coolwarm', fmt=\".2f\")\n",
    "plt.title('Correlation Matrix')\n",
    "plt.show()"
   ]
  },
  {
   "cell_type": "code",
   "execution_count": null,
   "id": "d6ed98c3",
   "metadata": {},
   "outputs": [],
   "source": [
    "fig, axes = plt.subplots(nrows=5, ncols=3, figsize=(20, 20)) # display histogram distribution\n",
    "\n",
    "for i, col in enumerate(data_num.columns):\n",
    "  sns.histplot(data=data_num, x=col, kde=True, ax=axes[i // 3, i % 3])\n",
    "\n",
    "plt.tight_layout()\n",
    "plt.show()"
   ]
  },
  {
   "cell_type": "code",
   "execution_count": null,
   "id": "ca66fb33",
   "metadata": {},
   "outputs": [],
   "source": [
    "from sklearn.preprocessing import StandardScaler\n",
    "\n",
    "data_numeric = data.select_dtypes(include=['float64', 'int64'])\n",
    "\n",
    "scaler = StandardScaler()\n",
    "data_scaled = scaler.fit_transform(data_numeric)"
   ]
  },
  {
   "cell_type": "code",
   "execution_count": null,
   "id": "ceb45b2c",
   "metadata": {},
   "outputs": [],
   "source": [
    "from sklearn.mixture import GaussianMixture\n",
    "from sklearn.decomposition import PCA\n",
    "import seaborn as sns\n",
    "import matplotlib.pyplot as plt\n",
    "\n",
    "# GMM Clustering\n",
    "gmm = GaussianMixture(n_components=7, random_state=42)\n",
    "gmm_labels = gmm.fit_predict(data_scaled)\n",
    "\n",
    "\n",
    "data_clustered_gmm = data.copy()\n",
    "data_clustered_gmm['cluster'] = gmm_labels\n"
   ]
  },
  {
   "cell_type": "code",
   "execution_count": null,
   "id": "134ed67a",
   "metadata": {},
   "outputs": [],
   "source": [
    "# PCA\n",
    "pca = PCA(n_components=2, random_state=42)\n",
    "pca_result = pca.fit_transform(data_scaled)\n",
    "data_clustered_gmm['PCA1'] = pca_result[:, 0]\n",
    "data_clustered_gmm['PCA2'] = pca_result[:, 1]\n",
    "\n",
    "# Visualization\n",
    "plt.figure(figsize=(10, 6))\n",
    "sns.scatterplot(\n",
    "    data=data_clustered_gmm,\n",
    "    x='PCA1', y='PCA2',\n",
    "    hue='cluster',\n",
    "    palette='Set2',\n",
    "    alpha=0.7\n",
    ")\n",
    "plt.title(\"GMM Clustering Result\")\n",
    "plt.xlabel(\"PCA 1\")\n",
    "plt.ylabel(\"PCA 2\")\n",
    "plt.legend(title='Cluster')\n",
    "plt.grid(True)\n",
    "plt.tight_layout()\n",
    "plt.show()"
   ]
  },
  {
   "cell_type": "code",
   "execution_count": null,
   "id": "7d30fc0b",
   "metadata": {},
   "outputs": [],
   "source": [
    "# Clusters Summary\n",
    "\n",
    "cluster_summary = data_clustered_gmm.groupby('cluster')[data_num.columns].mean().round(2)\n",
    "display(cluster_summary)"
   ]
  },
  {
   "cell_type": "code",
   "execution_count": null,
   "id": "b3386dc3",
   "metadata": {},
   "outputs": [],
   "source": [
    "# Top 100 By Popularity in Each Clusters\n",
    "\n",
    "top_100_popular_each_cluster = (\n",
    "    data_clustered_gmm\n",
    "    .sort_values(['cluster', 'popularity'], ascending=[True, False])\n",
    "    .groupby('cluster')\n",
    "    .head(100)\n",
    "    .reset_index(drop=True)\n",
    ")\n",
    "\n",
    "for c in sorted(top_100_popular_each_cluster['cluster'].unique()):\n",
    "    print(f\"\\n=== Cluster {c} ===\")\n",
    "    display(\n",
    "        top_100_popular_each_cluster[top_100_popular_each_cluster['cluster'] == c].head(10)\n",
    "    )"
   ]
  }
 ],
 "metadata": {
  "kernelspec": {
   "display_name": "base",
   "language": "python",
   "name": "python3"
  },
  "language_info": {
   "codemirror_mode": {
    "name": "ipython",
    "version": 3
   },
   "file_extension": ".py",
   "mimetype": "text/x-python",
   "name": "python",
   "nbconvert_exporter": "python",
   "pygments_lexer": "ipython3",
   "version": "3.11.7"
  }
 },
 "nbformat": 4,
 "nbformat_minor": 5
}
